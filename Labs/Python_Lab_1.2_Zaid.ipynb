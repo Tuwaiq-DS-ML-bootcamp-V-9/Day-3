{
 "cells": [
  {
   "cell_type": "markdown",
   "metadata": {},
   "source": [
    "# Python_Lab_1.2"
   ]
  },
  {
   "cell_type": "markdown",
   "metadata": {},
   "source": [
    "### Task 1: \n",
    "1. Create a tuple with the following details:\n",
    "    - Your favorite movie (string)\n",
    "    - The year it was released (integer)\n",
    "    - Its rating out of 10 (float)\n",
    "    - Whether you have watched it (boolean)\n",
    "2. Print the detailes"
   ]
  },
  {
   "cell_type": "code",
   "execution_count": 36,
   "metadata": {},
   "outputs": [],
   "source": [
    "# write your code here ^_^\n",
    "MyMovie=(\"i am legend\",2007,7.2,True)"
   ]
  },
  {
   "cell_type": "markdown",
   "metadata": {},
   "source": [
    "### Task 2:\n",
    "1. Create a set of 5 favorite colors.\n",
    "2. Print all the colors"
   ]
  },
  {
   "cell_type": "code",
   "execution_count": 37,
   "metadata": {},
   "outputs": [
    {
     "name": "stdout",
     "output_type": "stream",
     "text": [
      "MidnightBlue\n",
      "black\n",
      "DarkRed\n",
      "Gray\n",
      "Indigo\n"
     ]
    }
   ],
   "source": [
    "# write your code here ^_^\n",
    "colors={\"black\",\"Gray\",\"DarkRed\",\"Indigo\",\"MidnightBlue\"}\n",
    "\n",
    "for c in colors:\n",
    "    print(c)"
   ]
  },
  {
   "cell_type": "markdown",
   "metadata": {},
   "source": [
    "### Task 3:\n",
    "1. Create a dictionary to store information about 3 friends (name as key and a tuple with age and favorite hobby as value).\n",
    "2. Print the details of all friends."
   ]
  },
  {
   "cell_type": "code",
   "execution_count": 38,
   "metadata": {},
   "outputs": [
    {
     "name": "stdout",
     "output_type": "stream",
     "text": [
      "Abdullah [24, 'driving']\n",
      "Nasser [22, 'gaming']\n",
      "turki [27, 'draw']\n"
     ]
    }
   ],
   "source": [
    "# write your code here ^_^\n",
    "\n",
    "#T1\n",
    "friends={\"Abdullah\":[24,\"driving\"],\"Nasser\":[22,\"gaming\"],\"turki\":[27,\"draw\"]}\n",
    "\n",
    "#T2\n",
    "for f in friends:\n",
    "    print(f,friends[f])"
   ]
  },
  {
   "cell_type": "markdown",
   "metadata": {},
   "source": [
    "### Task 4:\n",
    "1. Check if you have watched the movie and print an appropriate message.\n",
    "1. Check if a specific color is in your favorite colors set and print its availability status."
   ]
  },
  {
   "cell_type": "code",
   "execution_count": 39,
   "metadata": {},
   "outputs": [
    {
     "name": "stdout",
     "output_type": "stream",
     "text": [
      "Yes, i have watched this movie\n",
      "Yes, there is DarkRed \n"
     ]
    }
   ],
   "source": [
    "# write your code here ^_^\n",
    "\n",
    "#T1\n",
    "for i in MyMovie:\n",
    "    if i == True:\n",
    "        print(\"Yes, i have watched this movie\")\n",
    "    elif i == False:\n",
    "        print(\"No, i haven't watched this movie\")\n",
    "\n",
    "#T2\n",
    "if \"DarkRed\" in colors:\n",
    "    print(\"Yes, there is DarkRed \")\n",
    "else:\n",
    "    print(\"No, there is no DarkRed\")"
   ]
  },
  {
   "cell_type": "markdown",
   "metadata": {},
   "source": []
  }
 ],
 "metadata": {
  "kernelspec": {
   "display_name": "Python 3",
   "language": "python",
   "name": "python3"
  },
  "language_info": {
   "codemirror_mode": {
    "name": "ipython",
    "version": 3
   },
   "file_extension": ".py",
   "mimetype": "text/x-python",
   "name": "python",
   "nbconvert_exporter": "python",
   "pygments_lexer": "ipython3",
   "version": "3.13.1"
  }
 },
 "nbformat": 4,
 "nbformat_minor": 2
}
