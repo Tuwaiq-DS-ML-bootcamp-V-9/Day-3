{
 "cells": [
  {
   "cell_type": "markdown",
   "metadata": {},
   "source": [
    "# Python_Lab_1.2"
   ]
  },
  {
   "cell_type": "markdown",
   "metadata": {},
   "source": [
    "### Task 1: \n",
    "1. Create a tuple with the following details:\n",
    "    - Your favorite movie (string)\n",
    "    - The year it was released (integer)\n",
    "    - Its rating out of 10 (float)\n",
    "    - Whether you have watched it (boolean)\n",
    "2. Print the detailes"
   ]
  },
  {
   "cell_type": "code",
   "execution_count": 17,
   "metadata": {},
   "outputs": [
    {
     "name": "stdout",
     "output_type": "stream",
     "text": [
      "('x', 2020, 7.7, True)\n"
     ]
    }
   ],
   "source": [
    "# write your code here ^_^\n",
    "movie_detils = (\"x\",2020,7.7,True)\n",
    "print(movie_detils)"
   ]
  },
  {
   "cell_type": "markdown",
   "metadata": {},
   "source": [
    "### Task 2:\n",
    "1. Create a set of 5 favorite colors.\n",
    "2. Print all the colors"
   ]
  },
  {
   "cell_type": "code",
   "execution_count": 18,
   "metadata": {},
   "outputs": [
    {
     "name": "stdout",
     "output_type": "stream",
     "text": [
      "{'grean', 'pink', 'yellow', 'Orange', 'blue'}\n"
     ]
    }
   ],
   "source": [
    "# write your code here ^_^\n",
    "favo_color = {\"Orange\",\"pink\",\"blue\",\"grean\",\"yellow\"}\n",
    "print(favo_color)"
   ]
  },
  {
   "cell_type": "markdown",
   "metadata": {},
   "source": [
    "### Task 3:\n",
    "1. Create a dictionary to store information about 3 friends (name as key and a tuple with age and favorite hobby as value).\n",
    "2. Print the details of all friends."
   ]
  },
  {
   "cell_type": "code",
   "execution_count": 19,
   "metadata": {},
   "outputs": [
    {
     "name": "stdout",
     "output_type": "stream",
     "text": [
      "dict_items([('Abrar', (23, 'writing')), ('kawthar', (22, 'drowing')), ('zaid', (34, 'play footbell'))])\n"
     ]
    }
   ],
   "source": [
    "# write your code here ^_^\n",
    "friends_info = {\n",
    "                \"Abrar\":(23,\"writing\"),\n",
    "                \"kawthar\":(22,\"drowing\"),\n",
    "                \"zaid\":(34,\"play footbell\")\n",
    "               \n",
    "               }\n",
    "print(friends_info.items())"
   ]
  },
  {
   "cell_type": "markdown",
   "metadata": {},
   "source": [
    "### Task 4:\n",
    "1. Check if you have watched the movie and print an appropriate message.\n",
    "1. Check if a specific color is in your favorite colors set and print its availability status."
   ]
  },
  {
   "cell_type": "code",
   "execution_count": 24,
   "metadata": {},
   "outputs": [
    {
     "name": "stdout",
     "output_type": "stream",
     "text": [
      "Great, is it intersting?\n",
      "type a color to check?red\n",
      "red is not one of your favorite colors.\n"
     ]
    }
   ],
   "source": [
    "# write your code here ^_^\n",
    "watchedMovie = True\n",
    "if True :\n",
    "    print(\"Great, is it intersting?\")\n",
    "color = input(\"type a color to check?\")\n",
    "if color in favo_color:\n",
    "        print(f\"{color} is one of your favorite colors!\") \n",
    "else:\n",
    "        print(f\"{color} is not one of your favorite colors.\") "
   ]
  },
  {
   "cell_type": "markdown",
   "metadata": {},
   "source": []
  }
 ],
 "metadata": {
  "kernelspec": {
   "display_name": "Python 3 (ipykernel)",
   "language": "python",
   "name": "python3"
  },
  "language_info": {
   "codemirror_mode": {
    "name": "ipython",
    "version": 3
   },
   "file_extension": ".py",
   "mimetype": "text/x-python",
   "name": "python",
   "nbconvert_exporter": "python",
   "pygments_lexer": "ipython3",
   "version": "3.9.12"
  }
 },
 "nbformat": 4,
 "nbformat_minor": 2
}
