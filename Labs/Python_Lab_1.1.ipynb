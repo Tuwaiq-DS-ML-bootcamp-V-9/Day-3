{
 "cells": [
  {
   "cell_type": "markdown",
   "metadata": {},
   "source": [
    "# Python_Lab_1.1\n"
   ]
  },
  {
   "cell_type": "markdown",
   "metadata": {},
   "source": [
    "### Task 1\n",
    "1. Print a welcome message.\n",
    "2. Create variables to store the following details:\n",
    "    - Your name (string)\n",
    "    - Your age (integer)\n",
    "    - Your height (float)\n",
    "    - Whether you are a student (boolean)\n",
    "3. Print these details.\n"
   ]
  },
  {
   "cell_type": "code",
   "execution_count": 5,
   "metadata": {},
   "outputs": [
    {
     "name": "stdout",
     "output_type": "stream",
     "text": [
      "welcome message\n",
      "{'name': 'munirah', 'age': 26, 'height': 161.0, 'Student': True}\n"
     ]
    }
   ],
   "source": [
    "print('welcome message')\n",
    "About_me = {'name':'munirah','age':26,'height':161.0,'Student':True}\n",
    "print(About_me)\n",
    "      "
   ]
  },
  {
   "cell_type": "markdown",
   "metadata": {},
   "source": [
    "### Task 2\n",
    " 1. Create a list of 5 favorite fruits.\n",
    " 2. Create a list with the price of each fruit.\n",
    " 3. Print the data types of these lists."
   ]
  },
  {
   "cell_type": "code",
   "execution_count": 7,
   "metadata": {},
   "outputs": [
    {
     "name": "stdout",
     "output_type": "stream",
     "text": [
      "<class 'list'>\n",
      "<class 'list'>\n"
     ]
    }
   ],
   "source": [
    "name_fruite =['apple','orange','pineapple','mango','kiwi']\n",
    "price =[10,11,22,33,11,16]\n",
    "\n",
    "print(type(name_fruite))\n",
    "print(type(price))      "
   ]
  },
  {
   "cell_type": "markdown",
   "metadata": {},
   "source": [
    "### Task 3\n",
    "1. Print the names of all fruits using a loop.\n",
    "2. Using a while loop and input built-in function, do the following:\n",
    "    - Ask the the user : \"what is the product of 7 * 24 ?\"\n",
    "    - check if the answer is right then exit the loop and print \"You answered this Question correctly\".\n",
    "    - if the answer is wrong, then print \"Your Answer is wrong try again..\" and show the user the question again.\n",
    "3. Build a program that takes one defined variable of type int, then it prints out the result formatted like the following pattern (if we give it 5 for example):\n",
    "\n",
    "    5 4 3 2 1\n",
    "\n",
    "    4 3 2 1\n",
    "\n",
    "    3 2 1\n",
    "\n",
    "    2 1\n",
    "    \n",
    "    1"
   ]
  },
  {
   "cell_type": "code",
   "execution_count": 11,
   "metadata": {},
   "outputs": [
    {
     "name": "stdout",
     "output_type": "stream",
     "text": [
      "['apple', 'orange', 'pineapple', 'mango', 'kiwi']\n"
     ]
    },
    {
     "name": "stdin",
     "output_type": "stream",
     "text": [
      "What is the product of 7 * 24?  168\n"
     ]
    },
    {
     "name": "stdout",
     "output_type": "stream",
     "text": [
      "You answered this question correctly.\n",
      "5 4 3 2 1\n",
      "4 3 2 1\n",
      "3 2 1\n",
      "2 1\n",
      "1\n"
     ]
    }
   ],
   "source": [
    "print(name_fruite)\n",
    "\n",
    "while True:\n",
    "    answer = input(\"What is the product of 7 * 24? \")\n",
    "    if answer.isdigit() and int(answer) == 168:\n",
    "        print(\"You answered this question correctly.\")\n",
    "        break\n",
    "    else:\n",
    "        print(\"Your answer is wrong, try again..\")\n",
    "\n",
    "\n",
    "def print_pattern(n):\n",
    "    for i in range(n, 0, -1):\n",
    "        print(' '.join(str(x) for x in range(i, 0, -1)))\n",
    "\n",
    "defined_variable = 5\n",
    "print_pattern(defined_variable)\n"
   ]
  },
  {
   "cell_type": "markdown",
   "metadata": {},
   "source": [
    "### Task 4\n",
    "You want to recommend a movie to a friend based on the rating and popularity. To accomplish this do the following:\n",
    "\n",
    "- Create a variable for the movie (choose any movie you like).\n",
    "- Create a variable of type int to hold the rating of the movie out of 5. Give this movie rate = 3\n",
    "- Create a popularity score of type float, let it be 72.65\n",
    "- Using an if statement:\n",
    "    - Check if the movie rating is 4 or greater and the popularity is greater than 80, print \"Highly recommended\".\n",
    "    - Else if the movie rating is 3 or greater and the popularity is greater than 70, print \"I recommended it, It is good\".\n",
    "    - Else if the movie rating is 2 or less and the popularity is greater than 60, print \"You should check it out!\".\n",
    "    - Else the movie rating is 2 or less and the popularity is less than 50, print \"Don't watch it, It is a waste of time\"."
   ]
  },
  {
   "cell_type": "code",
   "execution_count": 15,
   "metadata": {},
   "outputs": [
    {
     "name": "stdout",
     "output_type": "stream",
     "text": [
      "Highly recommended.\n"
     ]
    }
   ],
   "source": [
    "movie = \"Gilded Age\"  \n",
    "rating = 5          \n",
    "popularity = 82.64   \n",
    "\n",
    "\n",
    "if rating >= 4 and popularity > 80:\n",
    "    print(\"Highly recommended.\")\n",
    "elif rating >= 3 and popularity > 70:\n",
    "    print(\"I recommend it, it is good.\")\n",
    "elif rating <= 2 and popularity > 60:\n",
    "    print(\"You should check it out!\")\n",
    "else:  \n",
    "    print(\"Don't watch it, it is a waste of time.\")"
   ]
  }
 ],
 "metadata": {
  "kernelspec": {
   "display_name": "Python 3 (ipykernel)",
   "language": "python",
   "name": "python3"
  },
  "language_info": {
   "codemirror_mode": {
    "name": "ipython",
    "version": 3
   },
   "file_extension": ".py",
   "mimetype": "text/x-python",
   "name": "python",
   "nbconvert_exporter": "python",
   "pygments_lexer": "ipython3",
   "version": "3.12.4"
  }
 },
 "nbformat": 4,
 "nbformat_minor": 4
}
