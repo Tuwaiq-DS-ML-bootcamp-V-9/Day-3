{
 "cells": [
  {
   "cell_type": "markdown",
   "metadata": {},
   "source": [
    "# Python_Lab_1.1\n"
   ]
  },
  {
   "cell_type": "markdown",
   "metadata": {},
   "source": [
    "### Task 1\n",
    "1. Print a welcome message.\n",
    "2. Create variables to store the following details:\n",
    "    - Your name (string)\n",
    "    - Your age (integer)\n",
    "    - Your height (float)\n",
    "    - Whether you are a student (boolean)\n",
    "3. Print these details.\n"
   ]
  },
  {
   "cell_type": "code",
   "execution_count": 3,
   "metadata": {},
   "outputs": [
    {
     "name": "stdout",
     "output_type": "stream",
     "text": [
      "Hello suliman your age is 25 and your Height 166.0\n",
      "you are not student\n"
     ]
    }
   ],
   "source": [
    "# write your code here ^_^\n",
    "\n",
    "\n",
    "#create variables and assign values to them\n",
    "Name = \"suliman\"\n",
    "Age = 25\n",
    "Height = 166.0\n",
    "student = False \n",
    "\n",
    "#print welcome message useing f format\n",
    "print(f\"Hello {Name} your age is {Age} and your Height {Height}\")\n",
    "\n",
    "#if stsment for printing boolean variable\n",
    "if student == True :\n",
    "    print(\"print you are student\")\n",
    "else:\n",
    "    print(\"you are not student\")"
   ]
  },
  {
   "cell_type": "markdown",
   "metadata": {},
   "source": [
    "### Task 2\n",
    " 1. Create a list of 5 favorite fruits.\n",
    " 2. Create a list with the price of each fruit.\n",
    " 3. Print the data types of these lists."
   ]
  },
  {
   "cell_type": "code",
   "execution_count": 20,
   "metadata": {},
   "outputs": [
    {
     "name": "stdout",
     "output_type": "stream",
     "text": [
      "<class 'list'>\n",
      "<class 'list'>\n",
      "Apple\n",
      "Banana\n",
      "mango\n",
      "Kiwi\n",
      "Berries\n",
      "5\n",
      "7\n",
      "13\n",
      "10\n",
      "22\n"
     ]
    }
   ],
   "source": [
    "# write your code here ^_^\n",
    "\n",
    "#create fruite list \n",
    "my_fv_fruits = [\"Apple\" , \"Banana\" , \"mango\" , \"Kiwi\" , \"Berries\"]\n",
    "\n",
    "\n",
    "#create prise list \n",
    "prise = [5, 7, 13 , 10 , 22]\n",
    "\n",
    "\n",
    "\n",
    "#print type of my_fv_fruits and prise\n",
    "print(type(my_fv_fruits))\n",
    "print(type(prise))\n",
    "\n",
    "\n",
    "for i in my_fv_fruits:\n",
    "    print(i)\n",
    "\n",
    "\n",
    "for i in prise:\n",
    "    print(i)"
   ]
  },
  {
   "cell_type": "markdown",
   "metadata": {},
   "source": [
    "### Task 3\n",
    "1. Print the names of all fruits using a loop.\n",
    "2. Using a while loop and input built-in function, do the following:\n",
    "    - Ask the the user : \"what is the product of 7 * 24 ?\"\n",
    "    - check if the answer is right then exit the loop and print \"You answered this Question correctly\".\n",
    "    - if the answer is wrong, then print \"Your Answer is wrong try again..\" and show the user the question again."
   ]
  },
  {
   "cell_type": "code",
   "execution_count": 19,
   "metadata": {},
   "outputs": [
    {
     "name": "stdout",
     "output_type": "stream",
     "text": [
      "Your Answer is wrong try again..\n",
      "You answered this Question correctly\n"
     ]
    }
   ],
   "source": [
    "# write your code here ^_^\n",
    "x = int(input(\"What is the product of 7 * 24 :\"))\n",
    "\n",
    "while x != 24*7 :\n",
    "    print(\"Your Answer is wrong try again..\")\n",
    "    x = int(input(\"What is the product of 7 * 24 :\"))\n",
    "    \n",
    "else :\n",
    "    print(\"You answered this Question correctly\")\n"
   ]
  },
  {
   "cell_type": "markdown",
   "metadata": {},
   "source": [
    "3. Build a program that takes one defined variable of type int, then it prints out the result formatted like the following pattern (if we give it 5 for example):\n",
    "\n",
    "    5 4 3 2 1\n",
    "\n",
    "    4 3 2 1\n",
    "\n",
    "    3 2 1\n",
    "\n",
    "    2 1\n",
    "    \n",
    "    1"
   ]
  },
  {
   "cell_type": "code",
   "execution_count": 18,
   "metadata": {},
   "outputs": [
    {
     "name": "stdout",
     "output_type": "stream",
     "text": [
      "5 4 3 2 1 \n",
      "4 3 2 1 \n",
      "3 2 1 \n",
      "2 1 \n",
      "1 \n"
     ]
    }
   ],
   "source": [
    "num = int(input(\"take num:\"))\n",
    "\n",
    "for i in range(num, 0, -1):\n",
    "    \n",
    "    for j in range(i, 0, -1):\n",
    "\n",
    "       \n",
    "        print(j, end=\" \")\n",
    "    print() \n",
    "    "
   ]
  },
  {
   "cell_type": "markdown",
   "metadata": {},
   "source": [
    "### Task 4\n",
    "You want to recommend a movie to a friend based on the rating and popularity. To accomplish this do the following:\n",
    "\n",
    "- Create a variable for the movie (choose any movie you like).\n",
    "- Create a variable of type int to hold the rating of the movie out of 5. Give this movie rate = 3\n",
    "- Create a popularity score of type float, let it be 72.65\n",
    "- Using an if statement:\n",
    "    - Check if the movie rating is 4 or greater and the popularity is greater than 80, print \"Highly recommended\".\n",
    "    - Else if the movie rating is 3 or greater and the popularity is greater than 70, print \"I recommended it, It is good\".\n",
    "    - Else if the movie rating is 2 or less and the popularity is greater than 60, print \"You should check it out!\".\n",
    "    - Else the movie rating is 2 or less and the popularity is less than 50, print \"Don't watch it, It is a waste of time\"."
   ]
  },
  {
   "cell_type": "code",
   "execution_count": 21,
   "metadata": {},
   "outputs": [
    {
     "name": "stdout",
     "output_type": "stream",
     "text": [
      "I recommended it, It is good\n"
     ]
    }
   ],
   "source": [
    "# write your code here ^_^\n",
    "move = \"Dark night\"\n",
    "rat = 3 \n",
    "pr = 72.65\n",
    "\n",
    "if rat >=  4 and pr >=  80 :\n",
    "    print(\"Highly recommended\")\n",
    "elif rat >= 3 and pr >= 70:\n",
    "    print(\"I recommended it, It is good\")\n",
    "elif rat  <= 2 and pr >= 60:\n",
    "    print(\"You should check it out!.\")\n",
    "elif rat <= 2 and pr <= 50 :\n",
    "    print(\"Don't watch it, It is a waste of time\")\n",
    "\n",
    "\n"
   ]
  }
 ],
 "metadata": {
  "kernelspec": {
   "display_name": "Python 3",
   "language": "python",
   "name": "python3"
  },
  "language_info": {
   "codemirror_mode": {
    "name": "ipython",
    "version": 3
   },
   "file_extension": ".py",
   "mimetype": "text/x-python",
   "name": "python",
   "nbconvert_exporter": "python",
   "pygments_lexer": "ipython3",
   "version": "3.10.4"
  }
 },
 "nbformat": 4,
 "nbformat_minor": 2
}
