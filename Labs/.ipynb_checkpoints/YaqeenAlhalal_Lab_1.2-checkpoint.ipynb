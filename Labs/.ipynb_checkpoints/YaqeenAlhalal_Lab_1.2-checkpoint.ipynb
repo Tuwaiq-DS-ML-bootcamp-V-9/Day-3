{
 "cells": [
  {
   "cell_type": "markdown",
   "metadata": {},
   "source": [
    "# Python_Lab_1.2"
   ]
  },
  {
   "cell_type": "markdown",
   "metadata": {},
   "source": [
    "### Task 1: \n",
    "1. Create a tuple with the following details:\n",
    "    - Your favorite movie (string)\n",
    "    - The year it was released (integer)\n",
    "    - Its rating out of 10 (float)\n",
    "    - Whether you have watched it (boolean)\n",
    "2. Print the detailes"
   ]
  },
  {
   "cell_type": "code",
   "execution_count": 9,
   "metadata": {
    "scrolled": true
   },
   "outputs": [
    {
     "name": "stdout",
     "output_type": "stream",
     "text": [
      "Movie: Cinderella\n",
      "Realease year: 1950\n",
      "Rating: 7.3\n"
     ]
    }
   ],
   "source": [
    "# write your code here ^_^\n",
    "my_tuple = ('Cinderella', 1950, 7.3, True)\n",
    "print(f\"Movie: {my_tuple[0]}\\nRealease year: {my_tuple[1]}\\nRating: {my_tuple[2]}\")\n",
    "if my_tuple[3] == True:\n",
    "    print('Watching status: has been watched')"
   ]
  },
  {
   "cell_type": "markdown",
   "metadata": {},
   "source": [
    "### Task 2:\n",
    "1. Create a set of 5 favorite colors.\n",
    "2. Print all the colors"
   ]
  },
  {
   "cell_type": "code",
   "execution_count": 8,
   "metadata": {},
   "outputs": [
    {
     "name": "stdout",
     "output_type": "stream",
     "text": [
      "blue\n",
      "pink\n",
      "burgundy\n",
      "red\n",
      "orange\n"
     ]
    }
   ],
   "source": [
    "# write your code here ^_^\n",
    "colors = {'pink', 'orange', 'burgundy', 'red', 'blue'}\n",
    "for color in colors:\n",
    "    print(color)"
   ]
  },
  {
   "cell_type": "markdown",
   "metadata": {},
   "source": [
    "### Task 3:\n",
    "1. Create a dictionary to store information about 3 friends (name as key and a tuple with age and favorite hobby as value).\n",
    "2. Print the details of all friends."
   ]
  },
  {
   "cell_type": "code",
   "execution_count": 5,
   "metadata": {},
   "outputs": [
    {
     "name": "stdout",
     "output_type": "stream",
     "text": [
      "Name: Rachel\n",
      "Age:24\n",
      "Hobby:shopping\n",
      "Name: Monica\n",
      "Age:24\n",
      "Hobby:cooking\n",
      "Name: Phoebe\n",
      "Age:26\n",
      "Hobby:playing guitar\n"
     ]
    }
   ],
   "source": [
    "# write your code here ^_^\n",
    "friends = {\n",
    "    'Rachel':(24, 'shopping'),\n",
    "    'Monica':(24, 'cooking'),\n",
    "    'Phoebe':(26, 'playing guitar')\n",
    "}\n",
    "\n",
    "for key, value in friends.items():\n",
    "    print(f\"Name: {key}\\nAge:{value[0]}\\nHobby:{value[1]}\")\n"
   ]
  },
  {
   "cell_type": "markdown",
   "metadata": {},
   "source": [
    "### Task 4:\n",
    "1. Check if you have watched the movie and print an appropriate message.\n",
    "1. Check if a specific color is in your favorite colors set and print its availability status."
   ]
  },
  {
   "cell_type": "code",
   "execution_count": 11,
   "metadata": {},
   "outputs": [
    {
     "name": "stdout",
     "output_type": "stream",
     "text": [
      "Hope it was a great movie!\n"
     ]
    }
   ],
   "source": [
    "# write your code here ^_^\n",
    "if my_tuple[3] == True:\n",
    "    print(\"Hope it was a great movie!\")\n",
    "else:\n",
    "    print(\"You should check it out!\")"
   ]
  },
  {
   "cell_type": "code",
   "execution_count": 17,
   "metadata": {},
   "outputs": [
    {
     "name": "stdout",
     "output_type": "stream",
     "text": [
      "Orange is found in the colors list\n"
     ]
    }
   ],
   "source": [
    "if 'orange' in colors:\n",
    "    print('Orange is found in the colors list')\n",
    "else:\n",
    "    print('Ornage is not found in the colors list')"
   ]
  },
  {
   "cell_type": "markdown",
   "metadata": {},
   "source": []
  }
 ],
 "metadata": {
  "kernelspec": {
   "display_name": "Python 3 (ipykernel)",
   "language": "python",
   "name": "python3"
  },
  "language_info": {
   "codemirror_mode": {
    "name": "ipython",
    "version": 3
   },
   "file_extension": ".py",
   "mimetype": "text/x-python",
   "name": "python",
   "nbconvert_exporter": "python",
   "pygments_lexer": "ipython3",
   "version": "3.11.4"
  }
 },
 "nbformat": 4,
 "nbformat_minor": 2
}
