{
 "cells": [
  {
   "cell_type": "markdown",
   "metadata": {},
   "source": [
    "# Python_Lab_1.2"
   ]
  },
  {
   "cell_type": "markdown",
   "metadata": {},
   "source": [
    "### Task 1: \n",
    "1. Create a tuple with the following details:\n",
    "    - Your favorite movie (string)\n",
    "    - The year it was released (integer)\n",
    "    - Its rating out of 10 (float)\n",
    "    - Whether you have watched it (boolean)\n",
    "2. Print the detailes"
   ]
  },
  {
   "cell_type": "code",
   "execution_count": 20,
   "metadata": {},
   "outputs": [
    {
     "name": "stdout",
     "output_type": "stream",
     "text": [
      "Name: x\n",
      "Year Released: 2010\n",
      "Rating out of 10: 8.8\n",
      "Watched: True\n"
     ]
    }
   ],
   "source": [
    "# write your code here ^_^\n",
    "\n",
    "favoriteMovie = (\"x\", 2010, 8.8, True)\n",
    "print(\"Name:\", favoriteMovie[0])\n",
    "print(\"Year Released:\", favoriteMovie[1])\n",
    "print(\"Rating out of 10:\", favoriteMovie[2])\n",
    "print(\"Watched:\", favoriteMovie[3])\n"
   ]
  },
  {
   "cell_type": "markdown",
   "metadata": {},
   "source": [
    "### Task 2:\n",
    "1. Create a set of 5 favorite colors.\n",
    "2. Print all the colors"
   ]
  },
  {
   "cell_type": "code",
   "execution_count": 23,
   "metadata": {},
   "outputs": [
    {
     "name": "stdout",
     "output_type": "stream",
     "text": [
      "Black\n",
      "Blue\n",
      "white\n",
      "Red\n"
     ]
    }
   ],
   "source": [
    "# write your code here ^_^\n",
    "favoriteColors = {\"Red\",\"Blue\",\"white\",\"Black\"}\n",
    "for color in favoriteColors:\n",
    "    print(color)"
   ]
  },
  {
   "cell_type": "markdown",
   "metadata": {},
   "source": [
    "### Task 3:\n",
    "1. Create a dictionary to store information about 3 friends (name as key and a tuple with age and favorite hobby as value).\n",
    "2. Print the details of all friends."
   ]
  },
  {
   "cell_type": "code",
   "execution_count": 26,
   "metadata": {},
   "outputs": [
    {
     "name": "stdout",
     "output_type": "stream",
     "text": [
      "Name is Ahmed , Age is 25 , favorite hobby is Football\n",
      "Name is Yosef , Age is 23 , favorite hobby is Reading\n",
      "Name is Khalid , Age is 26 , favorite hobby is Gaming\n"
     ]
    }
   ],
   "source": [
    "# write your code here ^_^\n",
    "friendsInfo = {\n",
    "    \"Ahmed\": (25, \"Football\"),\n",
    "    \"Yosef\": (23, \"Reading\"),\n",
    "    \"Khalid\": (26, \"Gaming\")\n",
    "}\n",
    "for name , details in friendsInfo.items():\n",
    "    print(f\"Name is {name} , Age is {details[0]} , favorite hobby is {details[1]}\")\n"
   ]
  },
  {
   "cell_type": "markdown",
   "metadata": {},
   "source": [
    "### Task 4:\n",
    "1. Check if you have watched the movie and print an appropriate message.\n",
    "1. Check if a specific color is in your favorite colors set and print its availability status."
   ]
  },
  {
   "cell_type": "code",
   "execution_count": 29,
   "metadata": {},
   "outputs": [
    {
     "name": "stdout",
     "output_type": "stream",
     "text": [
      "You have watched x!\n",
      "The color Purple is not in your favorite colors.\n"
     ]
    }
   ],
   "source": [
    "# write your code here ^_^\n",
    "if favoriteMovie[3]:\n",
    "    print(f\"You have watched {favoriteMovie[0]}!\")\n",
    "else:\n",
    "    print(f\"You have not watched {favoriteMovie[0]} yet.\")\n",
    "\n",
    "colorToCheck = \"Purple\"\n",
    "if colorToCheck in favoriteColors:\n",
    "    print(f\"The color {colorToCheck} is in your favorite colors.\")\n",
    "else:\n",
    "    print(f\"The color {colorToCheck} is not in your favorite colors.\")"
   ]
  },
  {
   "cell_type": "markdown",
   "metadata": {},
   "source": []
  }
 ],
 "metadata": {
  "kernelspec": {
   "display_name": "Python [conda env:base] *",
   "language": "python",
   "name": "conda-base-py"
  },
  "language_info": {
   "codemirror_mode": {
    "name": "ipython",
    "version": 3
   },
   "file_extension": ".py",
   "mimetype": "text/x-python",
   "name": "python",
   "nbconvert_exporter": "python",
   "pygments_lexer": "ipython3",
   "version": "3.12.7"
  }
 },
 "nbformat": 4,
 "nbformat_minor": 4
}
