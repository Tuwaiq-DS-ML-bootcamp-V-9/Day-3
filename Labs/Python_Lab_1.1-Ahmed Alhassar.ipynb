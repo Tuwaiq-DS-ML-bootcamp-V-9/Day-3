{
 "cells": [
  {
   "cell_type": "markdown",
   "metadata": {},
   "source": [
    "# Python_Lab_1.1\n"
   ]
  },
  {
   "cell_type": "markdown",
   "metadata": {},
   "source": [
    "### Task 1\n",
    "1. Print a welcome message.\n",
    "2. Create variables to store the following details:\n",
    "    - Your name (string)\n",
    "    - Your age (integer)\n",
    "    - Your height (float)\n",
    "    - Whether you are a student (boolean)\n",
    "3. Print these details.\n"
   ]
  },
  {
   "cell_type": "code",
   "execution_count": 1,
   "metadata": {},
   "outputs": [
    {
     "name": "stdout",
     "output_type": "stream",
     "text": [
      "Welcome to python programming!!\n",
      "Hello everyone I'm Ahmed Alhassar, and I'm 22 years old, also I'm 1.83m tall, you may ask if I'm a student and the answer is True\n"
     ]
    }
   ],
   "source": [
    "print(\"Welcome to python programming!!\")\n",
    "name = \"Ahmed Alhassar\"\n",
    "age = 22\n",
    "height = 1.83\n",
    "student = True\n",
    "print(f\"Hello everyone I'm {name}, and I'm {age} years old, also I'm {height}m tall, you may ask if I'm a student and the answer is {student}\")"
   ]
  },
  {
   "cell_type": "markdown",
   "metadata": {},
   "source": [
    "### Task 2\n",
    " 1. Create a list of 5 favorite fruits.\n",
    " 2. Create a list with the price of each fruit.\n",
    " 3. Print the data types of these lists."
   ]
  },
  {
   "cell_type": "code",
   "execution_count": 5,
   "metadata": {},
   "outputs": [
    {
     "name": "stdout",
     "output_type": "stream",
     "text": [
      "Data type of 'fruits': <class 'list'>\n",
      "Data type of 'prices': <class 'list'>\n",
      "Data type of elements in 'fruits': <class 'str'>\n",
      "Data type of elements in 'prices': <class 'float'>\n"
     ]
    }
   ],
   "source": [
    "fruits = [\"Banana\", \"Oranges\", \"Apple\", \"Mango\", \"Blueberry\"]\n",
    "prices = [5.95, 4.95, 9.95, 11.95, 20]\n",
    "\n",
    "print(\"Data type of 'fruits':\", type(fruits))\n",
    "print(\"Data type of 'prices':\", type(prices))\n",
    "print(\"Data type of elements in 'fruits':\", type(fruits[0]))\n",
    "print(\"Data type of elements in 'prices':\", type(prices[0]))"
   ]
  },
  {
   "cell_type": "markdown",
   "metadata": {},
   "source": [
    "### Task 3\n",
    "1. Print the names of all fruits using a loop.\n",
    "2. Using a while loop and input built-in function, do the following:\n",
    "    - Ask the the user : \"what is the product of 7 * 24 ?\"\n",
    "    - check if the answer is right then exit the loop and print \"You answered this Question correctly\".\n",
    "    - if the answer is wrong, then print \"Your Answer is wrong try again..\" and show the user the question again.\n",
    "3. Build a program that takes one defined variable of type int, then it prints out the result formatted like the following pattern (if we give it 5 for example):\n",
    "\n",
    "    5 4 3 2 1\n",
    "\n",
    "    4 3 2 1\n",
    "\n",
    "    3 2 1\n",
    "\n",
    "    2 1\n",
    "    \n",
    "    1"
   ]
  },
  {
   "cell_type": "code",
   "execution_count": 6,
   "metadata": {},
   "outputs": [
    {
     "name": "stdout",
     "output_type": "stream",
     "text": [
      "Banana\n",
      "Oranges\n",
      "Apple\n",
      "Mango\n",
      "Blueberry\n",
      "You answered this question correctly\n",
      "5 4 3 2 1 \n",
      "4 3 2 1 \n",
      "3 2 1 \n",
      "2 1 \n",
      "1 \n"
     ]
    }
   ],
   "source": [
    "for fruit in fruits:\n",
    "    print(fruit)\n",
    "\n",
    "flag = True\n",
    "while flag:\n",
    "    guess = int(input(\"What is the product of 7 * 24 ? \"))\n",
    "    if guess == 7 * 24:\n",
    "        print(\"You answered this question correctly\")\n",
    "        flag = False\n",
    "    else:\n",
    "        print(\"Your answer is wrong try again....\")\n",
    "\n",
    "number = int(input(\"Enter number: \"))\n",
    "for i in range(number, 0, -1):\n",
    "    row = \"\"\n",
    "    for j in range(i, 0, -1):\n",
    "        row += str(j) + \" \"\n",
    "\n",
    "    print(row)\n",
    "\n"
   ]
  },
  {
   "cell_type": "markdown",
   "metadata": {},
   "source": [
    "### Task 4\n",
    "You want to recommend a movie to a friend based on the rating and popularity. To accomplish this do the following:\n",
    "\n",
    "- Create a variable for the movie (choose any movie you like).\n",
    "- Create a variable of type int to hold the rating of the movie out of 5. Give this movie rate = 3\n",
    "- Create a popularity score of type float, let it be 72.65\n",
    "- Using an if statement:\n",
    "    - Check if the movie rating is 4 or greater and the popularity is greater than 80, print \"Highly recommended\".\n",
    "    - Else if the movie rating is 3 or greater and the popularity is greater than 70, print \"I recommended it, It is good\".\n",
    "    - Else if the movie rating is 2 or less and the popularity is greater than 60, print \"You should check it out!\".\n",
    "    - Else the movie rating is 2 or less and the popularity is less than 50, print \"Don't watch it, It is a waste of time\"."
   ]
  },
  {
   "cell_type": "code",
   "execution_count": 7,
   "metadata": {},
   "outputs": [
    {
     "name": "stdout",
     "output_type": "stream",
     "text": [
      "I recommend it, it is good\n"
     ]
    }
   ],
   "source": [
    "movie = \"The other guys\"\n",
    "rating = 3\n",
    "popularity_score = 72.65\n",
    "if rating >= 4 and popularity_score > 80:\n",
    "    print(\"Highly recommended\")\n",
    "elif rating >= 3 and popularity_score > 70:\n",
    "    print(\"I recommend it, it is good\")\n",
    "elif rating > 2 and popularity_score > 60:\n",
    "    print(\"You should check it out!\")\n",
    "elif rating <= 2 and popularity_score < 50:\n",
    "    print(\"Don't watch it, it is a waste of time\")\n",
    "else:\n",
    "    print(\"No specific recommendation\")\n",
    "\n",
    "# There is a logical mistake in the question because it does not specify a recommendation \n",
    "# for movies with ratings between 2 and 3.\n",
    "# I identified this issue and added an extra condition to handle this case correctly.\n"
   ]
  }
 ],
 "metadata": {
  "kernelspec": {
   "display_name": "Python 3",
   "language": "python",
   "name": "python3"
  },
  "language_info": {
   "codemirror_mode": {
    "name": "ipython",
    "version": 3
   },
   "file_extension": ".py",
   "mimetype": "text/x-python",
   "name": "python",
   "nbconvert_exporter": "python",
   "pygments_lexer": "ipython3",
   "version": "3.12.3"
  }
 },
 "nbformat": 4,
 "nbformat_minor": 2
}
