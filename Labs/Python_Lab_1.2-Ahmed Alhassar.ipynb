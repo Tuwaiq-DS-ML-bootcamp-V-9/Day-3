{
 "cells": [
  {
   "cell_type": "markdown",
   "metadata": {},
   "source": [
    "# Python_Lab_1.2"
   ]
  },
  {
   "cell_type": "markdown",
   "metadata": {},
   "source": [
    "### Task 1: \n",
    "1. Create a tuple with the following details:\n",
    "    - Your favorite movie (string)\n",
    "    - The year it was released (integer)\n",
    "    - Its rating out of 10 (float)\n",
    "    - Whether you have watched it (boolean)\n",
    "2. Print the detailes"
   ]
  },
  {
   "cell_type": "code",
   "execution_count": 22,
   "metadata": {},
   "outputs": [
    {
     "name": "stdout",
     "output_type": "stream",
     "text": [
      "My favorite movie is Ride along, it was released in the year 2014, it got a rating of 6.1/10, and its True that i have watched it\n"
     ]
    }
   ],
   "source": [
    "info = (\"Ride along\", 2014, 6.1, True)\n",
    "print(f\"My favorite movie is {info[0]}, it was released in the year {info[1]}, it got a rating of {info[2]}/10, and its {info[3]} that i have watched it\")"
   ]
  },
  {
   "cell_type": "markdown",
   "metadata": {},
   "source": [
    "### Task 2:\n",
    "1. Create a set of 5 favorite colors.\n",
    "2. Print all the colors"
   ]
  },
  {
   "cell_type": "code",
   "execution_count": 23,
   "metadata": {},
   "outputs": [
    {
     "name": "stdout",
     "output_type": "stream",
     "text": [
      "Purple\n",
      "Green\n",
      "Black\n",
      "Blue\n",
      "Red\n"
     ]
    }
   ],
   "source": [
    "colors = {\"Red\", \"Blue\", \"Green\", \"Purple\", \"Black\"}\n",
    "for color in colors:\n",
    "    print(color)"
   ]
  },
  {
   "cell_type": "markdown",
   "metadata": {},
   "source": [
    "### Task 3:\n",
    "1. Create a dictionary to store information about 3 friends (name as key and a tuple with age and favorite hobby as value).\n",
    "2. Print the details of all friends."
   ]
  },
  {
   "cell_type": "code",
   "execution_count": 24,
   "metadata": {},
   "outputs": [
    {
     "name": "stdout",
     "output_type": "stream",
     "text": [
      "Faris: Age = 22, Hobby = Football\n",
      "Ahmed: Age = 22, Hobby = Eating\n",
      "Ali: Age = 22, Hobby = Football\n"
     ]
    }
   ],
   "source": [
    "friends_dict = {\"Faris\": (22, \"Football\"), \"Ahmed\": (22, \"Eating\"), \"Ali\": (22, \"Football\")}\n",
    "for friend, (age, hobby) in friends_dict.items():\n",
    "    print(f\"{friend}: Age = {age}, Hobby = {hobby}\")"
   ]
  },
  {
   "cell_type": "markdown",
   "metadata": {},
   "source": [
    "### Task 4:\n",
    "1. Check if you have watched the movie and print an appropriate message.\n",
    "1. Check if a specific color is in your favorite colors set and print its availability status."
   ]
  },
  {
   "cell_type": "code",
   "execution_count": 25,
   "metadata": {},
   "outputs": [
    {
     "name": "stdout",
     "output_type": "stream",
     "text": [
      "Yes, you have watched to movie!!!\n",
      "Yes, Blue is in the list of colors!!!\n"
     ]
    }
   ],
   "source": [
    "for i in info:\n",
    "    if type(i) == bool:\n",
    "        if i == True:\n",
    "            print(\"Yes, you have watched to movie!!!\")\n",
    "        else:\n",
    "            print(\"No, you have not watched the movie!!!\")\n",
    "\n",
    "color = \"Blue\"\n",
    "if color in colors:\n",
    "    print(f\"Yes, {color} is in the list of colors!!!\")\n",
    "else:\n",
    "    print(f\"No, {color} is not in the list of colors!!!\")\n"
   ]
  },
  {
   "cell_type": "markdown",
   "metadata": {},
   "source": []
  }
 ],
 "metadata": {
  "kernelspec": {
   "display_name": "Python 3",
   "language": "python",
   "name": "python3"
  },
  "language_info": {
   "codemirror_mode": {
    "name": "ipython",
    "version": 3
   },
   "file_extension": ".py",
   "mimetype": "text/x-python",
   "name": "python",
   "nbconvert_exporter": "python",
   "pygments_lexer": "ipython3",
   "version": "3.12.3"
  }
 },
 "nbformat": 4,
 "nbformat_minor": 2
}
