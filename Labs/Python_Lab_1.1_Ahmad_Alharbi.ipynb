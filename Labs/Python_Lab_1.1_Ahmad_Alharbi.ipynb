{
 "cells": [
  {
   "cell_type": "markdown",
   "metadata": {},
   "source": [
    "# Python_Lab_1.1\n"
   ]
  },
  {
   "cell_type": "markdown",
   "metadata": {},
   "source": [
    "### Task 1\n",
    "1. Print a welcome message.\n",
    "2. Create variables to store the following details:\n",
    "    - Your name (string)\n",
    "    - Your age (integer)\n",
    "    - Your height (float)\n",
    "    - Whether you are a student (boolean)\n",
    "3. Print these details.\n"
   ]
  },
  {
   "cell_type": "code",
   "execution_count": 1,
   "metadata": {},
   "outputs": [
    {
     "name": "stdout",
     "output_type": "stream",
     "text": [
      "Welcome\n",
      "my name is Ahmad Alharbi i am 22 my height is 179.2 and True i am a student\n"
     ]
    }
   ],
   "source": [
    "print(\"Welcome\")\n",
    "name = \"Ahmad Alharbi\"\n",
    "age = 22\n",
    "height = 179.2\n",
    "is_student = True\n",
    "print(f\"my name is {name} i am {age} my height is {height} and {is_student} i am a student\")"
   ]
  },
  {
   "cell_type": "markdown",
   "metadata": {},
   "source": [
    "### Task 2\n",
    " 1. Create a list of 5 favorite fruits.\n",
    " 2. Create a list with the price of each fruit.\n",
    " 3. Print the data types of these lists."
   ]
  },
  {
   "cell_type": "code",
   "execution_count": 2,
   "metadata": {},
   "outputs": [
    {
     "name": "stdout",
     "output_type": "stream",
     "text": [
      "<class 'list'>\n",
      "<class 'list'>\n"
     ]
    }
   ],
   "source": [
    "fruits = ['Apples','Bananas', 'Oranges', 'Strawberries' , 'Grapes']\n",
    "prices = [1, 2 , 0.8 , 0.2 ,3]\n",
    "print(type(fruits))\n",
    "print(type(prices))"
   ]
  },
  {
   "cell_type": "markdown",
   "metadata": {},
   "source": [
    "### Task 3\n",
    "1. Print the names of all fruits using a loop.\n",
    "2. Using a while loop and input built-in function, do the following:\n",
    "    - Ask the the user : \"what is the product of 7 * 24 ?\"\n",
    "    - check if the answer is right then exit the loop and print \"You answered this Question correctly\".\n",
    "    - if the answer is wrong, then print \"Your Answer is wrong try again..\" and show the user the question again.\n",
    "3. Build a program that takes one defined variable of type int, then it prints out the result formatted like the following pattern (if we give it 5 for example):\n",
    "\n",
    "    5 4 3 2 1\n",
    "\n",
    "    4 3 2 1\n",
    "\n",
    "    3 2 1\n",
    "\n",
    "    2 1\n",
    "    \n",
    "    1"
   ]
  },
  {
   "cell_type": "code",
   "execution_count": 11,
   "metadata": {},
   "outputs": [
    {
     "name": "stdout",
     "output_type": "stream",
     "text": [
      "Apples\n",
      "Bananas\n",
      "Oranges\n",
      "Strawberries\n",
      "Grapes\n",
      "5 4 3 2 1 \n",
      "4 3 2 1 \n",
      "3 2 1 \n",
      "2 1 \n",
      "1 \n"
     ]
    }
   ],
   "source": [
    "for i in fruits:\n",
    "    print(i)\n",
    "\n",
    "while True:\n",
    "    product = input(\"What is the product of 7 * 24 ?\")\n",
    "    if product == 7 * 24:\n",
    "        print(\"You answered this question correctly\")\n",
    "        break\n",
    "    else:\n",
    "        print(\"Your answer is wrong try again\")\n",
    "number = int(input(\"enter a number\"))\n",
    "for i in range(number ,0, -1):\n",
    "    for j in range(i,0,-1):\n",
    "        #By defult the print adds a new line \"/n\" at the end, to change this behaviour we use the parameter end\n",
    "        print(j,end=' ')\n",
    "    print('')        "
   ]
  },
  {
   "cell_type": "markdown",
   "metadata": {},
   "source": [
    "### Task 4\n",
    "You want to recommend a movie to a friend based on the rating and popularity. To accomplish this do the following:\n",
    "\n",
    "- Create a variable for the movie (choose any movie you like).\n",
    "- Create a variable of type int to hold the rating of the movie out of 5. Give this movie rate = 3\n",
    "- Create a popularity score of type float, let it be 72.65\n",
    "- Using an if statement:\n",
    "    - Check if the movie rating is 4 or greater and the popularity is greater than 80, print \"Highly recommended\".\n",
    "    - Else if the movie rating is 3 or greater and the popularity is greater than 70, print \"I recommended it, It is good\".\n",
    "    - Else if the movie rating is 2 or less and the popularity is greater than 60, print \"You should check it out!\".\n",
    "    - Else the movie rating is 2 or less and the popularity is less than 50, print \"Don't watch it, It is a waste of time\"."
   ]
  },
  {
   "cell_type": "code",
   "execution_count": 12,
   "metadata": {},
   "outputs": [
    {
     "name": "stdout",
     "output_type": "stream",
     "text": [
      "Don't look up\n",
      "I recommended it, it is good\n"
     ]
    }
   ],
   "source": [
    "movie = \"Don't look up\"\n",
    "print(movie)\n",
    "Rating = 3\n",
    "popularity = 72.65\n",
    "if Rating >=4 and popularity > 80:\n",
    "    print('Highly recommended')\n",
    "elif Rating >= 3 and popularity > 70:\n",
    "    print('I recommended it, it is good')\n",
    "elif Rating <= 2 and popularity > 60:\n",
    "    print(\"you should check it out!\")\n",
    "else:\n",
    "    print(\"Don't watch it, it is a waste of time\")"
   ]
  }
 ],
 "metadata": {
  "kernelspec": {
   "display_name": "base",
   "language": "python",
   "name": "python3"
  },
  "language_info": {
   "codemirror_mode": {
    "name": "ipython",
    "version": 3
   },
   "file_extension": ".py",
   "mimetype": "text/x-python",
   "name": "python",
   "nbconvert_exporter": "python",
   "pygments_lexer": "ipython3",
   "version": "3.11.5"
  }
 },
 "nbformat": 4,
 "nbformat_minor": 2
}
