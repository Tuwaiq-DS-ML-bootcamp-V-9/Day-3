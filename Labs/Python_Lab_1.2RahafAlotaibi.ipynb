{
 "cells": [
  {
   "cell_type": "markdown",
   "metadata": {},
   "source": [
    "# Python_Lab_1.2"
   ]
  },
  {
   "cell_type": "markdown",
   "metadata": {},
   "source": [
    "### Task 1: \n",
    "1. Create a tuple with the following details:\n",
    "    - Your favorite movie (string)\n",
    "    - The year it was released (integer)\n",
    "    - Its rating out of 10 (float)\n",
    "    - Whether you have watched it (boolean)\n",
    "2. Print the detailes"
   ]
  },
  {
   "cell_type": "code",
   "execution_count": 7,
   "metadata": {},
   "outputs": [
    {
     "name": "stdout",
     "output_type": "stream",
     "text": [
      "Favorite Movie: The Notebook\n",
      "Release Year: 2004\n",
      "Rating out of 10: 7.8\n",
      "Have you watched it? True\n"
     ]
    }
   ],
   "source": [
    "movieDetails = (\"The Notebook\", 2004, 7.8, True)  \n",
    "\n",
    "\n",
    "print(\"Favorite Movie:\", movieDetails[0])\n",
    "print(\"Release Year:\", movieDetails[1])\n",
    "print(\"Rating out of 10:\", movieDetails[2])\n",
    "print(\"Have you watched it?\", movieDetails[3])\n"
   ]
  },
  {
   "cell_type": "markdown",
   "metadata": {},
   "source": [
    "### Task 2:\n",
    "1. Create a set of 5 favorite colors.\n",
    "2. Print all the colors"
   ]
  },
  {
   "cell_type": "code",
   "execution_count": 3,
   "metadata": {},
   "outputs": [
    {
     "name": "stdout",
     "output_type": "stream",
     "text": [
      "{'Red', 'Black', 'Pink', 'Blue', 'Purple'}\n"
     ]
    }
   ],
   "source": [
    "favColors={\"Black\",\"Pink\",\"Purple\",\"Red\",\"Blue\"}\n",
    "print(favColors)"
   ]
  },
  {
   "cell_type": "markdown",
   "metadata": {},
   "source": [
    "### Task 3:\n",
    "1. Create a dictionary to store information about 3 friends (name as key and a tuple with age and favorite hobby as value).\n",
    "2. Print the details of all friends."
   ]
  },
  {
   "cell_type": "code",
   "execution_count": 5,
   "metadata": {},
   "outputs": [
    {
     "name": "stdout",
     "output_type": "stream",
     "text": [
      "Name: Renad, Age: 22, Favorite Hobby: Photography\n",
      "Name: Yara, Age: 22, Favorite Hobby: Swimmimg\n",
      "Name: Aya, Age: 23, Favorite Hobby: Drawing\n"
     ]
    }
   ],
   "source": [
    "\n",
    "myFriends = {\n",
    "    \"Renad\": (22, \"Photography\"),\n",
    "    \"Yara\": (22, \"Swimmimg\"),\n",
    "    \"Aya\": (23, \"Drawing\")\n",
    "}\n",
    "\n",
    "\n",
    "for name, details in myFriends.items():\n",
    "    age, hobby = details\n",
    "    print(f\"Name: {name}, Age: {age}, Favorite Hobby: {hobby}\")"
   ]
  },
  {
   "cell_type": "markdown",
   "metadata": {},
   "source": [
    "### Task 4:\n",
    "1. Check if you have watched the movie and print an appropriate message.\n",
    "1. Check if a specific color is in your favorite colors set and print its availability status."
   ]
  },
  {
   "cell_type": "code",
   "execution_count": 9,
   "metadata": {},
   "outputs": [
    {
     "name": "stdout",
     "output_type": "stream",
     "text": [
      "You have watched the movie.\n",
      "Blue is one of your favorite colors!\n"
     ]
    }
   ],
   "source": [
    "\n",
    "movieWatched = movieDetails[3]\n",
    "\n",
    "if movieWatched:\n",
    "    print(\"You have watched the movie.\")\n",
    "else:\n",
    "    print(\"You haven't watched the movie yet.\")\n",
    "\n",
    "favColors = {\"Red\", \"Blue\", \"Green\", \"Yellow\", \"Purple\"}\n",
    "checkColor = \"Blue\"\n",
    "\n",
    "if checkColor in favColors:\n",
    "    print(f\"{checkColor} is one of your favorite colors!\")\n",
    "else:\n",
    "    print(f\"{checkColor} is not one of your favorite colors.\")"
   ]
  },
  {
   "cell_type": "markdown",
   "metadata": {},
   "source": []
  }
 ],
 "metadata": {
  "kernelspec": {
   "display_name": "Python [conda env:base] *",
   "language": "python",
   "name": "conda-base-py"
  },
  "language_info": {
   "codemirror_mode": {
    "name": "ipython",
    "version": 3
   },
   "file_extension": ".py",
   "mimetype": "text/x-python",
   "name": "python",
   "nbconvert_exporter": "python",
   "pygments_lexer": "ipython3",
   "version": "3.12.7"
  }
 },
 "nbformat": 4,
 "nbformat_minor": 4
}
