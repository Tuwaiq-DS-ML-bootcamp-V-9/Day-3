{
 "cells": [
  {
   "cell_type": "markdown",
   "metadata": {},
   "source": [
    "# Python_Lab_1.2"
   ]
  },
  {
   "cell_type": "markdown",
   "metadata": {},
   "source": [
    "### Task 1: \n",
    "1. Create a tuple with the following details:\n",
    "    - Your favorite movie (string)\n",
    "    - The year it was released (integer)\n",
    "    - Its rating out of 10 (float)\n",
    "    - Whether you have watched it (boolean)\n",
    "2. Print the detailes"
   ]
  },
  {
   "cell_type": "code",
   "execution_count": 1,
   "metadata": {},
   "outputs": [
    {
     "name": "stdout",
     "output_type": "stream",
     "text": [
      "('Gilded Age', 2022, 8.4, True)\n"
     ]
    }
   ],
   "source": [
    "my_favorite_movie = ('Gilded Age',2022,8.4,True)\n",
    "print(my_favorite_movie)"
   ]
  },
  {
   "cell_type": "markdown",
   "metadata": {},
   "source": [
    "### Task 2:\n",
    "1. Create a set of 5 favorite colors.\n",
    "2. Print all the colors"
   ]
  },
  {
   "cell_type": "code",
   "execution_count": 3,
   "metadata": {},
   "outputs": [
    {
     "name": "stdout",
     "output_type": "stream",
     "text": [
      "{'red', 'pink', 'black', 'blue', 'white'}\n"
     ]
    }
   ],
   "source": [
    "favorite_colors = {'blue','pink','white','black','red'}\n",
    "print(favorite_colors)"
   ]
  },
  {
   "cell_type": "markdown",
   "metadata": {},
   "source": [
    "### Task 3:\n",
    "1. Create a dictionary to store information about 3 friends (name as key and a tuple with age and favorite hobby as value).\n",
    "2. Print the details of all friends."
   ]
  },
  {
   "cell_type": "code",
   "execution_count": 7,
   "metadata": {},
   "outputs": [
    {
     "name": "stdout",
     "output_type": "stream",
     "text": [
      "{'May': (27, 'writing'), 'Asma': (27, 'song'), 'Haya': (28, 'read')}\n"
     ]
    }
   ],
   "source": [
    "friends_info = {\n",
    "    \"May\": (27, \"writing\"),\n",
    "    \"Asma\": (27, \"song\"),\n",
    "    \"Haya\": (28, \"read\")\n",
    "}\n",
    "\n",
    "print(friends_info)"
   ]
  },
  {
   "cell_type": "markdown",
   "metadata": {},
   "source": [
    "### Task 4:\n",
    "1. Check if you have watched the movie and print an appropriate message.\n",
    "1. Check if a specific color is in your favorite colors set and print its availability status."
   ]
  },
  {
   "cell_type": "code",
   "execution_count": 13,
   "metadata": {},
   "outputs": [
    {
     "name": "stdout",
     "output_type": "stream",
     "text": [
      "You have watched Gilded Age.\n",
      "gray is not in your favorite colors.\n"
     ]
    }
   ],
   "source": [
    "watched_movie = \"Gilded Age\"  \n",
    "movies_watched = {\"Inception\", \"The Matrix\", \"Gilded Age\"}  \n",
    "\n",
    "if watched_movie in movies_watched:\n",
    "    print(f\"You have watched {watched_movie}.\")\n",
    "else:\n",
    "    print(f\"You have not watched {watched_movie}.\")\n",
    "\n",
    "\n",
    "favorite_colors = {'blue','pink','white','black','red'} \n",
    "color_to_check = \"gray\"  \n",
    "\n",
    "if color_to_check in favorite_colors:\n",
    "    print(f\"{color_to_check} is in your favorite colors.\")\n",
    "else:\n",
    "    print(f\"{color_to_check} is not in your favorite colors.\")"
   ]
  },
  {
   "cell_type": "markdown",
   "metadata": {},
   "source": []
  }
 ],
 "metadata": {
  "kernelspec": {
   "display_name": "Python 3 (ipykernel)",
   "language": "python",
   "name": "python3"
  },
  "language_info": {
   "codemirror_mode": {
    "name": "ipython",
    "version": 3
   },
   "file_extension": ".py",
   "mimetype": "text/x-python",
   "name": "python",
   "nbconvert_exporter": "python",
   "pygments_lexer": "ipython3",
   "version": "3.12.4"
  }
 },
 "nbformat": 4,
 "nbformat_minor": 4
}
